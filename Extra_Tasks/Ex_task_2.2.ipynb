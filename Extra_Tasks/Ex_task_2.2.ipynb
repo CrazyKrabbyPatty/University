{
  "nbformat": 4,
  "nbformat_minor": 0,
  "metadata": {
    "colab": {
      "provenance": [],
      "include_colab_link": true
    },
    "kernelspec": {
      "name": "python3",
      "display_name": "Python 3"
    },
    "language_info": {
      "name": "python"
    }
  },
  "cells": [
    {
      "cell_type": "markdown",
      "metadata": {
        "id": "view-in-github",
        "colab_type": "text"
      },
      "source": [
        "<a href=\"https://colab.research.google.com/github/CrazyKrabbyPatty/University/blob/main/Extra_Tasks/%D0%94%D0%BE%D0%BF%D0%BE%D0%BB%D0%BD%D0%B8%D1%82%D0%B5%D0%BB%D1%8C%D0%BD%D0%BE%D0%B5%20%D0%B7%D0%B0%D0%B4%D0%B0%D0%BD%D0%B8%D0%B5%20%E2%84%962.2.ipynb\" target=\"_parent\"><img src=\"https://colab.research.google.com/assets/colab-badge.svg\" alt=\"Open In Colab\"/></a>"
      ]
    },
    {
      "cell_type": "markdown",
      "source": [
        "# **Дополнительное задание №2.2. Замыкания. Декораторы. Итераторы. Генераторы**"
      ],
      "metadata": {
        "id": "AFKOdzjAKWYc"
      }
    },
    {
      "cell_type": "markdown",
      "source": [
        "**БАЗА:**\n",
        "\n",
        "- **Замыкания** позволяют создавать функции с сохраняющимся состоянием. Это полезно для создания фабричных функций и функций с настраиваемым поведением.\n",
        "- **Декораторы** позволяют модифицировать или расширять поведение функций без изменения их исходного кода."
      ],
      "metadata": {
        "id": "nBwTqfsSyaGg"
      }
    },
    {
      "cell_type": "markdown",
      "source": [
        "---"
      ],
      "metadata": {
        "id": "2VnR8e3twGfD"
      }
    },
    {
      "cell_type": "markdown",
      "source": [
        "## **I. Замыкания и декораторы**"
      ],
      "metadata": {
        "id": "_ZPLUks08b1-"
      }
    },
    {
      "cell_type": "markdown",
      "metadata": {
        "id": "eVsLMeozyshu"
      },
      "source": [
        "### **Пункт №1**\n",
        "\n",
        "Напишите две функции создания списка из чётных чисел от 0 до N (N – аргумент функции): \\([0, 2, 4, ..., N]\\).\n",
        "\n",
        "- **Первая функция** должна использовать метод `append` для добавления элементов в список.\n",
        "- **Вторая функция** должна использовать **генератор списков** (list comprehensions) для создания списка.\n",
        "\n",
        "После этого, через **декоратор**, определите время работы этих функций."
      ]
    },
    {
      "cell_type": "code",
      "source": [
        "import time\n",
        "\n",
        "def first_func_1(N:int) -> list:\n",
        "    '''\n",
        "    Функция для вычисления чётных чисел через прибавление 2 от нуля и append\n",
        "    N - число до которого будет создаваться список\n",
        "    '''\n",
        "    lst = []\n",
        "    start = 0\n",
        "    while N >= start:\n",
        "        lst.append(start)\n",
        "        start += 2\n",
        "    return lst\n",
        "\n",
        "def first_func_2(N:int) -> list:\n",
        "    '''\n",
        "    Функция для вычисления чётных чисел через процент от числа и append\n",
        "    N - число до которого будет создаваться список\n",
        "    '''\n",
        "    lst = []\n",
        "    for i in range(N):\n",
        "        if i % 2 == 0:\n",
        "            lst.append(i)\n",
        "    return lst\n",
        "\n",
        "def second_func(N:int) -> list:\n",
        "    '''\n",
        "    Метод чётных числе через list comprehension\n",
        "    N - число до которого будет создаваться список\n",
        "    '''\n",
        "    return [n for n in range(N) if n % 2 == 0]\n",
        "\n",
        "def testTime(fn) -> str:\n",
        "    '''\n",
        "    Функция с замыканием, для определения времени работы входящей функции\n",
        "    fn - передающаяся функция\n",
        "    '''\n",
        "    def wrapper(args:int) -> float:\n",
        "        '''\n",
        "        Функция обёртка, которая возваращет время выполнения переданной ей функции\n",
        "        args - значение, которе подасться в функцию\n",
        "        '''\n",
        "        st = time.time()\n",
        "        fn(args)\n",
        "        dt = time.time() - st\n",
        "        print(f\"Время работы: {dt} сек\")\n",
        "        return fn(args)\n",
        "    return wrapper\n",
        "\n",
        "test1 = testTime(first_func_1)\n",
        "test2 = testTime(first_func_2)\n",
        "test3 = testTime(second_func)\n",
        "\n",
        "N = 30\n",
        "\n",
        "test1(N)\n",
        "test2(N)\n",
        "test3(N)"
      ],
      "metadata": {
        "id": "04AwDHUyZe6F",
        "colab": {
          "base_uri": "https://localhost:8080/"
        },
        "outputId": "6557395a-3506-4e89-d810-266b2c18eb4e"
      },
      "execution_count": 20,
      "outputs": [
        {
          "output_type": "stream",
          "name": "stdout",
          "text": [
            "Время работы: 5.245208740234375e-06 сек\n",
            "Время работы: 6.67572021484375e-06 сек\n",
            "Время работы: 5.7220458984375e-06 сек\n"
          ]
        },
        {
          "output_type": "execute_result",
          "data": {
            "text/plain": [
              "[0, 2, 4, 6, 8, 10, 12, 14, 16, 18, 20, 22, 24, 26, 28]"
            ]
          },
          "metadata": {},
          "execution_count": 20
        }
      ]
    },
    {
      "cell_type": "markdown",
      "source": [
        "---"
      ],
      "metadata": {
        "id": "_0Jy4QhEwGDd"
      }
    },
    {
      "cell_type": "markdown",
      "source": [
        "### **Пункт №2**\n",
        "\n",
        "Напишите **декоратор** для кэширования результатов работы функции, вычисляющей значение n-го числа [**ряда Фибоначчи**](https://ru.wikipedia.org/wiki/Числа_Фибоначчи).\n",
        "\n",
        "То есть, при повторном вызове функции через декоратор уже имеющийся результат должен браться из кэша, а не вычисляться заново.\n",
        "\n",
        "**Например:**\n",
        "\n",
        "- При значении параметра `n = 5`, должна кэшироваться последовательность \\([0, 1, 1, 2, 3, 5]\\).\n",
        "- Вызывая после этого целевую функцию через декоратор ещё раз с `n = 3`, результат \\([0, 1, 1, 2]\\) должен браться из кэша.\n",
        "- Если последующее значение `n` больше предыдущего, например `n = 10`, вычисление должно продолжаться, начиная с закэшированной последовательности.\n",
        "\n",
        "*Подсказка: используйте **замыкание** для хранения кэша внутри декоратора.*\n"
      ],
      "metadata": {
        "id": "DfDtOSmDl7ic"
      }
    },
    {
      "cell_type": "code",
      "source": [
        "def decorator_func(fn) -> list:\n",
        "    '''\n",
        "    Декоратора для кэширования входной функции\n",
        "    fn - входная функция\n",
        "    '''\n",
        "    cache = [0, 1]\n",
        "    def fibonacci_cache(n:int) -> list:\n",
        "        '''\n",
        "        Функция, вычисляющая значиная фибоначи\n",
        "        Эта функия заонсит значения в кэш\n",
        "        n - индекс числа, до которого надо просчитать числа фибоначи\n",
        "        подсчёт начинается без учёта 0\n",
        "        '''\n",
        "        if n < len(cache):\n",
        "            return cache[:n+1]\n",
        "        for i in range(len(cache), n+1):\n",
        "            cache.append(cache[i-2] + cache[i-1])\n",
        "        return cache\n",
        "    return fibonacci_cache\n",
        "\n",
        "@decorator_func\n",
        "def fibonacci_values(n:int) -> list:\n",
        "    '''\n",
        "    Считает числа Фибоначи до n индекса последовательности\n",
        "    n - число до которного необходимо считать\n",
        "    '''\n",
        "    pass\n",
        "\n",
        "print(fibonacci_values(5))\n",
        "print(fibonacci_values(10))\n",
        "print(fibonacci_values(10))\n",
        "print(fibonacci_values(7))\n",
        "print(fibonacci_values(25))\n",
        "print(fibonacci_values(15))"
      ],
      "metadata": {
        "id": "CtbbsIBsZfHB",
        "colab": {
          "base_uri": "https://localhost:8080/"
        },
        "outputId": "365f23d0-8221-490d-c84f-ddfd1d673a14"
      },
      "execution_count": 21,
      "outputs": [
        {
          "output_type": "stream",
          "name": "stdout",
          "text": [
            "[0, 1, 1, 2, 3, 5]\n",
            "[0, 1, 1, 2, 3, 5, 8, 13, 21, 34, 55]\n",
            "[0, 1, 1, 2, 3, 5, 8, 13, 21, 34, 55]\n",
            "[0, 1, 1, 2, 3, 5, 8, 13]\n",
            "[0, 1, 1, 2, 3, 5, 8, 13, 21, 34, 55, 89, 144, 233, 377, 610, 987, 1597, 2584, 4181, 6765, 10946, 17711, 28657, 46368, 75025]\n",
            "[0, 1, 1, 2, 3, 5, 8, 13, 21, 34, 55, 89, 144, 233, 377, 610]\n"
          ]
        }
      ]
    },
    {
      "cell_type": "markdown",
      "source": [
        "---"
      ],
      "metadata": {
        "id": "CIiq8lr7wFkS"
      }
    },
    {
      "cell_type": "markdown",
      "source": [
        "### **Пункт №3**\n",
        "\n",
        "Примените к функции из задания №2 сразу **два декоратора**:\n",
        "\n",
        "1. **Декоратор**, определяющий время выполнения функции.\n",
        "2. **Кэширующий декоратор** (из задания №2).\n",
        "\n",
        "Сравните время работы функции с использованием кэширования и без него.\n"
      ],
      "metadata": {
        "id": "zY5zVHuifDve"
      }
    },
    {
      "cell_type": "code",
      "source": [
        "@testTime\n",
        "@decorator_func\n",
        "def fibonacci_values(n:int) -> list:\n",
        "    '''\n",
        "    Считает числа Фибоначи до n индекса последовательности\n",
        "    n - число до которного необходимо считать\n",
        "    '''\n",
        "    pass\n",
        "\n",
        "print(fibonacci_values(25))\n",
        "print(fibonacci_values(25))\n",
        "print(fibonacci_values(100))\n",
        "print(fibonacci_values(100))"
      ],
      "metadata": {
        "id": "dXuu8LJgg-0r",
        "colab": {
          "base_uri": "https://localhost:8080/"
        },
        "outputId": "3c04afb8-9e59-4ed0-b6c9-464f88662e5b"
      },
      "execution_count": 22,
      "outputs": [
        {
          "output_type": "stream",
          "name": "stdout",
          "text": [
            "Время работы: 1.1920928955078125e-05 сек\n",
            "[0, 1, 1, 2, 3, 5, 8, 13, 21, 34, 55, 89, 144, 233, 377, 610, 987, 1597, 2584, 4181, 6765, 10946, 17711, 28657, 46368, 75025]\n",
            "Время работы: 1.9073486328125e-06 сек\n",
            "[0, 1, 1, 2, 3, 5, 8, 13, 21, 34, 55, 89, 144, 233, 377, 610, 987, 1597, 2584, 4181, 6765, 10946, 17711, 28657, 46368, 75025]\n",
            "Время работы: 2.9325485229492188e-05 сек\n",
            "[0, 1, 1, 2, 3, 5, 8, 13, 21, 34, 55, 89, 144, 233, 377, 610, 987, 1597, 2584, 4181, 6765, 10946, 17711, 28657, 46368, 75025, 121393, 196418, 317811, 514229, 832040, 1346269, 2178309, 3524578, 5702887, 9227465, 14930352, 24157817, 39088169, 63245986, 102334155, 165580141, 267914296, 433494437, 701408733, 1134903170, 1836311903, 2971215073, 4807526976, 7778742049, 12586269025, 20365011074, 32951280099, 53316291173, 86267571272, 139583862445, 225851433717, 365435296162, 591286729879, 956722026041, 1548008755920, 2504730781961, 4052739537881, 6557470319842, 10610209857723, 17167680177565, 27777890035288, 44945570212853, 72723460248141, 117669030460994, 190392490709135, 308061521170129, 498454011879264, 806515533049393, 1304969544928657, 2111485077978050, 3416454622906707, 5527939700884757, 8944394323791464, 14472334024676221, 23416728348467685, 37889062373143906, 61305790721611591, 99194853094755497, 160500643816367088, 259695496911122585, 420196140727489673, 679891637638612258, 1100087778366101931, 1779979416004714189, 2880067194370816120, 4660046610375530309, 7540113804746346429, 12200160415121876738, 19740274219868223167, 31940434634990099905, 51680708854858323072, 83621143489848422977, 135301852344706746049, 218922995834555169026, 354224848179261915075]\n",
            "Время работы: 1.9073486328125e-06 сек\n",
            "[0, 1, 1, 2, 3, 5, 8, 13, 21, 34, 55, 89, 144, 233, 377, 610, 987, 1597, 2584, 4181, 6765, 10946, 17711, 28657, 46368, 75025, 121393, 196418, 317811, 514229, 832040, 1346269, 2178309, 3524578, 5702887, 9227465, 14930352, 24157817, 39088169, 63245986, 102334155, 165580141, 267914296, 433494437, 701408733, 1134903170, 1836311903, 2971215073, 4807526976, 7778742049, 12586269025, 20365011074, 32951280099, 53316291173, 86267571272, 139583862445, 225851433717, 365435296162, 591286729879, 956722026041, 1548008755920, 2504730781961, 4052739537881, 6557470319842, 10610209857723, 17167680177565, 27777890035288, 44945570212853, 72723460248141, 117669030460994, 190392490709135, 308061521170129, 498454011879264, 806515533049393, 1304969544928657, 2111485077978050, 3416454622906707, 5527939700884757, 8944394323791464, 14472334024676221, 23416728348467685, 37889062373143906, 61305790721611591, 99194853094755497, 160500643816367088, 259695496911122585, 420196140727489673, 679891637638612258, 1100087778366101931, 1779979416004714189, 2880067194370816120, 4660046610375530309, 7540113804746346429, 12200160415121876738, 19740274219868223167, 31940434634990099905, 51680708854858323072, 83621143489848422977, 135301852344706746049, 218922995834555169026, 354224848179261915075]\n"
          ]
        }
      ]
    },
    {
      "cell_type": "markdown",
      "source": [
        "---"
      ],
      "metadata": {
        "id": "fsSegPodwEwZ"
      }
    },
    {
      "cell_type": "markdown",
      "source": [
        "### **Пункт №4**\n",
        "\n",
        "Создайте функцию **make_multiplier(n)**, которая принимает число **n** и возвращает функцию, умножающую переданное ей число на **n**.\n",
        "\n",
        "**Пример использования:**\n",
        "\n",
        "```python\n",
        "def make_multiplier(n):\n",
        "    # Ваш код\n",
        "\n",
        "times3 = make_multiplier(3)\n",
        "print(times3(5))  # Вывод: 15\n",
        "```"
      ],
      "metadata": {
        "id": "Ap04UA6ZtoK1"
      }
    },
    {
      "cell_type": "code",
      "source": [
        "def make_multiplier(n:int) -> int:\n",
        "    '''\n",
        "    Берёт число n на вход и возвращает функцию, умножающее переданное ей чисо n раз\n",
        "    n - числа, на которое будет умножаться другое число\n",
        "    '''\n",
        "    def multiply_by(m:int) -> int:\n",
        "        '''\n",
        "        Функция, которая умножает числа\n",
        "        m - число, на которое будет умножаться n раз\n",
        "        '''\n",
        "        return n * m\n",
        "    return multiply_by\n",
        "\n",
        "times3 = make_multiplier(3)\n",
        "print(times3(5))  # Вывод: 15"
      ],
      "metadata": {
        "id": "HasdSjestowl",
        "colab": {
          "base_uri": "https://localhost:8080/"
        },
        "outputId": "091d55ca-07e4-47b6-ed9c-bf14bcde3586"
      },
      "execution_count": 23,
      "outputs": [
        {
          "output_type": "stream",
          "name": "stdout",
          "text": [
            "15\n"
          ]
        }
      ]
    },
    {
      "cell_type": "markdown",
      "source": [
        "---"
      ],
      "metadata": {
        "id": "MIPkER_LwD_0"
      }
    },
    {
      "cell_type": "markdown",
      "source": [
        "### **Пункт №5**\n",
        "\n",
        "Реализуйте функцию с замыканием, которая настраивает округление чисел до заданного количества знаков после запятой.\n",
        "\n",
        "**Пример:**\n",
        "\n",
        "```python\n",
        "def rounder(n):\n",
        "    # Ваш код\n",
        "\n",
        "round_to_2 = rounder(2)\n",
        "print(round_to_2(3.14159))  # Вывод: 3.14\n",
        "```\n"
      ],
      "metadata": {
        "id": "mTwh5dIqto8N"
      }
    },
    {
      "cell_type": "code",
      "source": [
        "def rounder(n:int) -> float:\n",
        "    '''\n",
        "    Функция, которая округляет число до заданного значения\n",
        "    n - заданное значение\n",
        "    '''\n",
        "    def number_claimer(number:float) -> float:\n",
        "        '''\n",
        "        Функция принимающее число, которое надо округлить\n",
        "        number - число\n",
        "        '''\n",
        "        return round(number, n)\n",
        "    return number_claimer\n",
        "\n",
        "\n",
        "round_to_2 = rounder(2)\n",
        "print(round_to_2(3.14159))  # Вывод: 3.14"
      ],
      "metadata": {
        "id": "zjlE-viztpDo",
        "colab": {
          "base_uri": "https://localhost:8080/"
        },
        "outputId": "19ee53b8-9095-4b87-9230-52f70204a8d6"
      },
      "execution_count": 24,
      "outputs": [
        {
          "output_type": "stream",
          "name": "stdout",
          "text": [
            "3.14\n"
          ]
        }
      ]
    },
    {
      "cell_type": "markdown",
      "source": [
        "---"
      ],
      "metadata": {
        "id": "6u2MeXBiwAyf"
      }
    },
    {
      "cell_type": "markdown",
      "source": [
        "### **Пункт №6**\n",
        "\n",
        "Напишите **декоратор**, который измеряет время исполнения функции и выводит его на экран, только если время превышает определённый порог.\n",
        "\n",
        "**Пример:**\n",
        "\n",
        "```python\n",
        "@time_threshold(threshold=0.5)\n",
        "def long_running_function():\n",
        "    # Долгий код\n",
        "\n",
        "long_running_function()\n",
        "# Выводится время выполнения только если оно больше 0.5 секунд\n",
        "```"
      ],
      "metadata": {
        "id": "i5A4zQl5tpKJ"
      }
    },
    {
      "cell_type": "code",
      "source": [
        "import time\n",
        "\n",
        "def time_threshold(buffer:float):\n",
        "    '''\n",
        "    Функция, принимающее заданный буфер времени для работы функции\n",
        "    buffer - заданное время буфера\n",
        "    Если функция работала дольше заданного времени, функция выводит сообщение, заместо результата\n",
        "    '''\n",
        "    def testTime(fn):\n",
        "        '''\n",
        "        Функция обёртка, которая принимает функцию\n",
        "        fn - входящая функция\n",
        "        '''\n",
        "        def wrapper():\n",
        "            '''\n",
        "            Функция, которая вычисляет время выполнения входящей функции\n",
        "            '''\n",
        "            start_time = time.time()\n",
        "            fn()\n",
        "            end_time = time.time()\n",
        "            if end_time - start_time > buffer:\n",
        "                print(f'Время выполнения: {end_time - start_time}')\n",
        "        return wrapper\n",
        "    return testTime\n",
        "\n",
        "\n",
        "@time_threshold(buffer=0.5)\n",
        "def long_running_function():\n",
        "    time.sleep(1)\n",
        "\n",
        "long_running_function()\n",
        "\n",
        "# Выводится время выполнения только если оно больше 0.5 секунд"
      ],
      "metadata": {
        "id": "LMGleXaetpP6",
        "colab": {
          "base_uri": "https://localhost:8080/"
        },
        "outputId": "ba7bbe03-6ccf-435b-db78-7b47233f7d42"
      },
      "execution_count": 25,
      "outputs": [
        {
          "output_type": "stream",
          "name": "stdout",
          "text": [
            "Время выполнения: 1.001150131225586\n"
          ]
        }
      ]
    },
    {
      "cell_type": "markdown",
      "source": [
        "---"
      ],
      "metadata": {
        "id": "Ag0rUJm-wIK1"
      }
    },
    {
      "cell_type": "markdown",
      "source": [
        "## **II. Итераторы и генераторы**"
      ],
      "metadata": {
        "id": "tu5ZanR_8j_R"
      }
    },
    {
      "cell_type": "markdown",
      "source": [
        "---\n",
        "\n",
        "### **Пункт №1. Генератор строк фиксированной длины**\n",
        "\n",
        "Напишите генератор `string_generator(char, times)`, который генерирует строки, состоящие из символа `char`, повторенного от 1 до `times` раз.\n",
        "\n",
        "```python\n",
        "# Пример использования:\n",
        "for s in string_generator('*', 5):\n",
        "    print(s)\n",
        "# Вывод:\n",
        "# *\n",
        "# **\n",
        "# ***\n",
        "# ****\n",
        "# *****\n",
        "```\n",
        "\n"
      ],
      "metadata": {
        "id": "7KQ8huR-8C_4"
      }
    },
    {
      "cell_type": "markdown",
      "source": [
        "---"
      ],
      "metadata": {
        "id": "ktfqCVPY-Mlx"
      }
    },
    {
      "cell_type": "code",
      "source": [
        "def string_generator(char:str, times:int) -> str:\n",
        "    '''\n",
        "    Функция, которая генерирует строки, состоящие из символа char, повторенного от 1 до times раз.\n",
        "    char - входящий символ\n",
        "    times - количество раз, которое надо перемножить символ\n",
        "    '''\n",
        "    for i in range(times + 1):\n",
        "        yield(char * i)\n",
        "\n",
        "for s in string_generator('*', 5):\n",
        "    print(s)"
      ],
      "metadata": {
        "id": "uvI-Ebqu98bW",
        "colab": {
          "base_uri": "https://localhost:8080/"
        },
        "outputId": "19f43cd0-88b9-4c6b-e487-d8ce419ea25e"
      },
      "execution_count": 26,
      "outputs": [
        {
          "output_type": "stream",
          "name": "stdout",
          "text": [
            "\n",
            "*\n",
            "**\n",
            "***\n",
            "****\n",
            "*****\n"
          ]
        }
      ]
    },
    {
      "cell_type": "markdown",
      "source": [
        "---\n",
        "\n",
        "### **Пункт №2. Генератор бесконечной последовательности**\n",
        "\n",
        "Создайте бесконечный генератор `infinite_sequence()`, который с каждым вызовом возвращает следующее число, начиная с 1.\n",
        "\n",
        "```python\n",
        "# Пример использования:\n",
        "gen = infinite_sequence()\n",
        "for _ in range(5):\n",
        "    print(next(gen))\n",
        "# Вывод:\n",
        "# 1\n",
        "# 2\n",
        "# 3\n",
        "# 4\n",
        "# 5\n",
        "```\n",
        "\n",
        "---"
      ],
      "metadata": {
        "id": "zDtiD8Rl9Oqu"
      }
    },
    {
      "cell_type": "code",
      "source": [
        "def infinite_sequence() -> int:\n",
        "    '''\n",
        "    Функция, генерирующая следующее число, начиная с 1\n",
        "    '''\n",
        "    k = 1\n",
        "    while True:\n",
        "        yield k\n",
        "        k += 1\n",
        "\n",
        "gen = infinite_sequence()\n",
        "\n",
        "for _ in range(5):\n",
        "    print(next(gen))"
      ],
      "metadata": {
        "id": "Yotj0YMK-Avy",
        "colab": {
          "base_uri": "https://localhost:8080/"
        },
        "outputId": "9fe5ebea-a809-45fa-d9c3-4ba0a43d848c"
      },
      "execution_count": 27,
      "outputs": [
        {
          "output_type": "stream",
          "name": "stdout",
          "text": [
            "1\n",
            "2\n",
            "3\n",
            "4\n",
            "5\n"
          ]
        }
      ]
    },
    {
      "cell_type": "markdown",
      "source": [
        "---\n",
        "\n",
        "### **Пункт №3. Генератор комбинированных списков**\n",
        "\n",
        "Создайте генератор `combined_lists(lst1, lst2)`, который попеременно возвращает элементы из `lst1` и `lst2`. Если длины списков неравны, генератор должен остановиться при исчерпании более короткого списка.\n",
        "\n",
        "```python\n",
        "# Пример использования:\n",
        "for item in combined_lists([1, 2, 3], ['a', 'b', 'c', 'd']):\n",
        "    print(item)\n",
        "# Вывод:\n",
        "# 1\n",
        "# 'a'\n",
        "# 2\n",
        "# 'b'\n",
        "# 3\n",
        "# 'c'\n",
        "```"
      ],
      "metadata": {
        "id": "rJQEC1n19KHE"
      }
    },
    {
      "cell_type": "markdown",
      "source": [
        "\n",
        "---"
      ],
      "metadata": {
        "id": "1h8fsmju-LQh"
      }
    },
    {
      "cell_type": "code",
      "source": [
        "def combined_lists(list1:list, list2:list) -> chr:\n",
        "    '''\n",
        "    Функция-генератор, попеременная вовзращающяя элементы из 2-ух списков\n",
        "    list1 - первый входящий список\n",
        "    list2 - второй входящий список\n",
        "    '''\n",
        "    rng = min(len(list1), len(list2))\n",
        "    for i in range(rng):\n",
        "        yield(list1[i])\n",
        "        yield(list2[i])\n",
        "\n",
        "\n",
        "for item in combined_lists([1, 2, 3], ['a', 'b', 'c', 'd']):\n",
        "    print(item)"
      ],
      "metadata": {
        "id": "_kcrlmgU-Bmz",
        "colab": {
          "base_uri": "https://localhost:8080/"
        },
        "outputId": "f266783f-84a8-4dcc-de96-18a8120efc84"
      },
      "execution_count": 28,
      "outputs": [
        {
          "output_type": "stream",
          "name": "stdout",
          "text": [
            "1\n",
            "a\n",
            "2\n",
            "b\n",
            "3\n",
            "c\n"
          ]
        }
      ]
    },
    {
      "cell_type": "markdown",
      "source": [
        "---\n",
        "\n",
        "### **Пункт №4. Генератор перевернутой строки**\n",
        "\n",
        "Напишите генератор `reverse_string(s)`, который при каждом вызове возвращает следующий символ строки `s` в обратном порядке.\n",
        "\n",
        "```python\n",
        "# Пример использования:\n",
        "for char in reverse_string('hello'):\n",
        "    print(char)\n",
        "# Вывод:\n",
        "# o\n",
        "# l\n",
        "# l\n",
        "# e\n",
        "# h\n",
        "```"
      ],
      "metadata": {
        "id": "CEXaNzJX9B1D"
      }
    },
    {
      "cell_type": "markdown",
      "source": [
        "---"
      ],
      "metadata": {
        "id": "L9WQ5Jpq-JaO"
      }
    },
    {
      "cell_type": "code",
      "source": [
        "def reverse_string(s:str) -> chr:\n",
        "    '''\n",
        "    Функция-генератор, которая при каждом вызове возвращает следующий символ строки s в обратном порядке.\n",
        "    s - входящая строка\n",
        "    '''\n",
        "    for i in range(len(s)):\n",
        "        yield s[::-1][i]\n",
        "\n",
        "for char in reverse_string('hello'):\n",
        "    print(char)"
      ],
      "metadata": {
        "id": "5w9xT0eR-CBf",
        "colab": {
          "base_uri": "https://localhost:8080/"
        },
        "outputId": "7326c81e-2356-4def-a59f-97b6532a1d8e"
      },
      "execution_count": 32,
      "outputs": [
        {
          "output_type": "stream",
          "name": "stdout",
          "text": [
            "o\n",
            "l\n",
            "l\n",
            "e\n",
            "h\n"
          ]
        }
      ]
    },
    {
      "cell_type": "markdown",
      "source": [
        "---\n",
        "\n",
        "### **Пункт №5. Генератор степеней двойки**\n",
        "\n",
        "Создайте генератор `powers_of_two(n)`, который возвращает степени двойки от 2^0 до 2^n.\n",
        "\n",
        "```python\n",
        "# Пример использования:\n",
        "for num in powers_of_two(5):\n",
        "    print(num)\n",
        "# Вывод:\n",
        "# 1  # 2^0\n",
        "# 2  # 2^1\n",
        "# 4  # 2^2\n",
        "# 8  # 2^3\n",
        "# 16 # 2^4\n",
        "# 32 # 2^5\n",
        "```\n",
        "\n",
        "---"
      ],
      "metadata": {
        "id": "GNykcs8D8-Je"
      }
    },
    {
      "cell_type": "code",
      "source": [
        "def powers_of_two(n:int):\n",
        "    '''\n",
        "    Функция-генератор, вычисляющая степени двойки от 0 до n\n",
        "    n - конечная степень\n",
        "    '''\n",
        "    for i in range(n+1):\n",
        "        yield 2**i\n",
        "\n",
        "for num in powers_of_two(5):\n",
        "    print(num)"
      ],
      "metadata": {
        "id": "LjNW3m-y-CXj",
        "colab": {
          "base_uri": "https://localhost:8080/"
        },
        "outputId": "ef61b017-a04b-4495-fd3d-2eedc5353c4a"
      },
      "execution_count": 31,
      "outputs": [
        {
          "output_type": "stream",
          "name": "stdout",
          "text": [
            "1\n",
            "2\n",
            "4\n",
            "8\n",
            "16\n",
            "32\n"
          ]
        }
      ]
    },
    {
      "cell_type": "markdown",
      "source": [
        "---"
      ],
      "metadata": {
        "id": "OU71icWn-Ggg"
      }
    },
    {
      "cell_type": "markdown",
      "source": [
        "### **Пункт №6. Генератор чисел из строки**\n",
        "\n",
        "Напишите генератор `number_extractor(s)`, который извлекает числа из заданной строки `s` и возвращает их как целые числа.\n",
        "\n",
        "```python\n",
        "# Пример использования:\n",
        "for num in number_extractor('abc123def45gh6'):\n",
        "    print(num)\n",
        "# Вывод:\n",
        "# 123\n",
        "# 45\n",
        "# 6\n",
        "```"
      ],
      "metadata": {
        "id": "w5gcNZCM829V"
      }
    },
    {
      "cell_type": "markdown",
      "source": [
        "---"
      ],
      "metadata": {
        "id": "oJt2kxt8-FUP"
      }
    },
    {
      "cell_type": "code",
      "source": [
        "def number_extractor(s:str) -> int:\n",
        "    '''\n",
        "    Генератор, извлекающий числа из заданной строки s и возвращающий их как целые числа\n",
        "    s - строка, из которой нужно извлечь числа\n",
        "    '''\n",
        "    flag = 0\n",
        "    for i in range(len(s)):\n",
        "        if flag == 0:\n",
        "            result = ''\n",
        "        if s[i].isdigit():\n",
        "            flag = 1\n",
        "            result += s[i]\n",
        "        elif (flag == 1) and (not s[i].isdigit()):\n",
        "            flag = 0\n",
        "            yield int(result)\n",
        "        else:\n",
        "            flag = 0\n",
        "    if flag == 1:\n",
        "        yield int(result)\n",
        "for num in number_extractor('abc123def45gh6'):\n",
        "    print (num)"
      ],
      "metadata": {
        "id": "zDYVvuBX-C9M",
        "colab": {
          "base_uri": "https://localhost:8080/"
        },
        "outputId": "ea0a0ac0-434c-465e-8f77-83ca5c0f3042"
      },
      "execution_count": 33,
      "outputs": [
        {
          "output_type": "stream",
          "name": "stdout",
          "text": [
            "123\n",
            "45\n",
            "6\n"
          ]
        }
      ]
    },
    {
      "cell_type": "markdown",
      "source": [
        "---"
      ],
      "metadata": {
        "id": "h6ztzyUn-D5n"
      }
    }
  ]
}
