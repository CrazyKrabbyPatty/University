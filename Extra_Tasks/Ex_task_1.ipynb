{
  "nbformat": 4,
  "nbformat_minor": 0,
  "metadata": {
    "colab": {
      "provenance": [],
      "authorship_tag": "ABX9TyMGa7kQV5Suizz0Rw/c7t77",
      "include_colab_link": true
    },
    "kernelspec": {
      "name": "python3",
      "display_name": "Python 3"
    },
    "language_info": {
      "name": "python"
    }
  },
  "cells": [
    {
      "cell_type": "markdown",
      "metadata": {
        "id": "view-in-github",
        "colab_type": "text"
      },
      "source": [
        "<a href=\"https://colab.research.google.com/github/CrazyKrabbyPatty/University/blob/main/Extra_Tasks/Additional%20Task%20%E2%84%961.ipynb\" target=\"_parent\"><img src=\"https://colab.research.google.com/assets/colab-badge.svg\" alt=\"Open In Colab\"/></a>"
      ]
    },
    {
      "cell_type": "code",
      "execution_count": 1,
      "metadata": {
        "colab": {
          "base_uri": "https://localhost:8080/"
        },
        "id": "Lyfg-zZVwGJo",
        "outputId": "da1e2d81-c9c3-416f-e156-3cd5f82bf2d8"
      },
      "outputs": [
        {
          "output_type": "stream",
          "name": "stdout",
          "text": [
            "Отгадай число!\n",
            "Ввод пользователя: 60\n",
            "Ваше число больше!\n",
            "Ввод пользователя: 30\n",
            "Ваше число больше!\n",
            "Ввод пользователя: 15\n",
            "Ваше число больше!\n",
            "Ввод пользователя: 6\n",
            "Ваше число больше!\n",
            "Ввод пользователя: 3\n",
            "Поздравляем! Вы мерлин, ведь вы угадали число за 5 попытки!\n"
          ]
        }
      ],
      "source": [
        "import random\n",
        "\n",
        "print(\"Отгадай число!\")\n",
        "\n",
        "hidden_number = random.randint(0, 100)\n",
        "\n",
        "count = 0\n",
        "\n",
        "while True:\n",
        "    user_input = input(\"Ввод пользователя: \")\n",
        "\n",
        "    if user_input == \"Выход\":\n",
        "        print(\"Вы забуксовали\")\n",
        "        break\n",
        "\n",
        "    count += 1\n",
        "\n",
        "    if int(user_input) < hidden_number:\n",
        "        print(\"Ваше число меньше!\")\n",
        "    elif  int(user_input) > hidden_number:\n",
        "        print(\"Ваше число больше!\")\n",
        "    else:\n",
        "        print(\"Поздравляем! Вы мерлин, ведь вы угадали число за \" + str(count) + \" попытки!\")\n",
        "        break"
      ]
    }
  ]
}
