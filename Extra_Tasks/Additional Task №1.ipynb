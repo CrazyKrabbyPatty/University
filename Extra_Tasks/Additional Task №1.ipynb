{
 "cells": [
  {
   "cell_type": "code",
   "execution_count": 1,
   "metadata": {
    "colab": {
     "base_uri": "https://localhost:8080/"
    },
    "id": "Lyfg-zZVwGJo",
    "outputId": "e92b620a-b3ec-4618-f6be-5f01c5eff59a"
   },
   "outputs": [
    {
     "name": "stdout",
     "output_type": "stream",
     "text": [
      "Отгадай число!\n",
      "Ввод пользователя: 30\n",
      "Ваше число меньше!\n",
      "Ввод пользователя: 50\n",
      "Ваше число меньше!\n",
      "Ввод пользователя: 80\n",
      "Поздравляем! Вы мэрлин, ведь вы угадали число за 3 попытки!\n"
     ]
    }
   ],
   "source": [
    "import random\n",
    "\n",
    "print(\"Отгадай число!\")\n",
    "\n",
    "hidden_number = random.randint(0, 100)\n",
    "\n",
    "count = 0\n",
    "\n",
    "while True:\n",
    "    user_input = input(\"Ввод пользователя: \")\n",
    "\n",
    "    if user_input == \"Выход\":\n",
    "        print(\"Вы забуксовали\")\n",
    "        break\n",
    "\n",
    "    count += 1\n",
    "\n",
    "    if int(user_input) < hidden_number:\n",
    "        print(\"Ваше число меньше!\")\n",
    "    elif  int(user_input) > hidden_number:\n",
    "        print(\"Ваше число больше!\")\n",
    "    else:\n",
    "        print(\"Поздравляем! Вы мерлин, ведь вы угадали число за \" + str(count) + \" попытки!\")\n",
    "        break"
   ]
  }
 ],
 "metadata": {
  "colab": {
   "provenance": []
  },
  "kernelspec": {
   "display_name": "Python 3",
   "name": "python3"
  },
  "language_info": {
   "name": "python"
  }
 },
 "nbformat": 4,
 "nbformat_minor": 0
}
